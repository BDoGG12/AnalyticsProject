{
 "cells": [
  {
   "cell_type": "markdown",
   "metadata": {},
   "source": [
    "# NBA Franchise Analysis\n",
    "\n",
    "The data for the franchise record was downloaded from https://www.kaggle.com/koki25ando/nba-franchise-record. Kaggle is a site for those that have an active interest in analytics and data science. One can choose any real-world datasets to work with. They can also participate in competitions hosted by Kaggle to take on real world challenges. People can choose to work in teams or alone. \n",
    "\n",
    "The data dictionary for the NBA Franchise record is provided below:\n",
    "\n",
    "Franchise : Team Name\n",
    "\n",
    "Lg : League name(s)\n",
    "\n",
    "From : The year of establishment\n",
    "\n",
    "To : The year of\n",
    "\n",
    "Yrs : Franchise year\n",
    "\n",
    "G : Games played\n",
    "\n",
    "W : Wins\n",
    "\n",
    "L : Losses\n",
    "\n",
    "PCT : Winning percentage\n",
    "\n",
    "Plyfs : the number of playoff appearance\n",
    "\n",
    "Div : the number of division championship\n",
    "\n",
    "Conf : the number of conference championship\n",
    "\n",
    "Champ : The number of title\n",
    "\n",
    "This analysis is in response to the following questions below:\n",
    "\n",
    "1. Which team has the longest history?\n",
    "2. Which team has the best winning percentage and worst winning percentage?"
   ]
  },
  {
   "cell_type": "code",
   "execution_count": 1,
   "metadata": {},
   "outputs": [],
   "source": [
    "# Import libraries\n",
    "import numpy as np\n",
    "import pandas as pd\n",
    "import matplotlib.pyplot as plt\n",
    "import seaborn as sns"
   ]
  },
  {
   "cell_type": "code",
   "execution_count": 3,
   "metadata": {},
   "outputs": [],
   "source": [
    "# Read in the csv file as dataframe\n",
    "nba_franchise = pd.read_csv('NBA Franchise Record.csv')"
   ]
  },
  {
   "cell_type": "code",
   "execution_count": 5,
   "metadata": {},
   "outputs": [
    {
     "name": "stdout",
     "output_type": "stream",
     "text": [
      "<class 'pandas.core.frame.DataFrame'>\n",
      "RangeIndex: 30 entries, 0 to 29\n",
      "Data columns (total 14 columns):\n",
      "Unnamed: 0    30 non-null int64\n",
      "Franchise     30 non-null object\n",
      "Lg            30 non-null object\n",
      "From          30 non-null int64\n",
      "To            30 non-null int64\n",
      "Yrs           30 non-null int64\n",
      "G             30 non-null int64\n",
      "W             30 non-null int64\n",
      "L             30 non-null int64\n",
      "PCT           30 non-null float64\n",
      "Plyfs         30 non-null int64\n",
      "Div           30 non-null int64\n",
      "Conf          30 non-null int64\n",
      "Champ         30 non-null int64\n",
      "dtypes: float64(1), int64(11), object(2)\n",
      "memory usage: 3.4+ KB\n"
     ]
    },
    {
     "data": {
      "text/plain": [
       "Unnamed: 0    0\n",
       "Franchise     0\n",
       "Lg            0\n",
       "From          0\n",
       "To            0\n",
       "Yrs           0\n",
       "G             0\n",
       "W             0\n",
       "L             0\n",
       "PCT           0\n",
       "Plyfs         0\n",
       "Div           0\n",
       "Conf          0\n",
       "Champ         0\n",
       "dtype: int64"
      ]
     },
     "execution_count": 5,
     "metadata": {},
     "output_type": "execute_result"
    }
   ],
   "source": [
    "# Check the data out\n",
    "nba_franchise.info()\n",
    "\n",
    "nba_franchise.isnull().sum()"
   ]
  },
  {
   "cell_type": "code",
   "execution_count": 6,
   "metadata": {},
   "outputs": [
    {
     "data": {
      "text/html": [
       "<div>\n",
       "<style scoped>\n",
       "    .dataframe tbody tr th:only-of-type {\n",
       "        vertical-align: middle;\n",
       "    }\n",
       "\n",
       "    .dataframe tbody tr th {\n",
       "        vertical-align: top;\n",
       "    }\n",
       "\n",
       "    .dataframe thead th {\n",
       "        text-align: right;\n",
       "    }\n",
       "</style>\n",
       "<table border=\"1\" class=\"dataframe\">\n",
       "  <thead>\n",
       "    <tr style=\"text-align: right;\">\n",
       "      <th></th>\n",
       "      <th>Unnamed: 0</th>\n",
       "      <th>Franchise</th>\n",
       "      <th>Lg</th>\n",
       "      <th>From</th>\n",
       "      <th>To</th>\n",
       "      <th>Yrs</th>\n",
       "      <th>G</th>\n",
       "      <th>W</th>\n",
       "      <th>L</th>\n",
       "      <th>PCT</th>\n",
       "      <th>Plyfs</th>\n",
       "      <th>Div</th>\n",
       "      <th>Conf</th>\n",
       "      <th>Champ</th>\n",
       "    </tr>\n",
       "  </thead>\n",
       "  <tbody>\n",
       "    <tr>\n",
       "      <th>0</th>\n",
       "      <td>1</td>\n",
       "      <td>Atlanta Hawks</td>\n",
       "      <td>NBA</td>\n",
       "      <td>1950</td>\n",
       "      <td>2018</td>\n",
       "      <td>69</td>\n",
       "      <td>5470</td>\n",
       "      <td>2717</td>\n",
       "      <td>2753</td>\n",
       "      <td>0.497</td>\n",
       "      <td>46</td>\n",
       "      <td>11</td>\n",
       "      <td>0</td>\n",
       "      <td>1</td>\n",
       "    </tr>\n",
       "    <tr>\n",
       "      <th>1</th>\n",
       "      <td>2</td>\n",
       "      <td>Boston Celtics</td>\n",
       "      <td>NBA/BAA</td>\n",
       "      <td>1947</td>\n",
       "      <td>2018</td>\n",
       "      <td>72</td>\n",
       "      <td>5642</td>\n",
       "      <td>3329</td>\n",
       "      <td>2313</td>\n",
       "      <td>0.590</td>\n",
       "      <td>55</td>\n",
       "      <td>31</td>\n",
       "      <td>9</td>\n",
       "      <td>17</td>\n",
       "    </tr>\n",
       "    <tr>\n",
       "      <th>2</th>\n",
       "      <td>3</td>\n",
       "      <td>Brooklyn Nets</td>\n",
       "      <td>NBA/ABA</td>\n",
       "      <td>1968</td>\n",
       "      <td>2018</td>\n",
       "      <td>51</td>\n",
       "      <td>4140</td>\n",
       "      <td>1782</td>\n",
       "      <td>2358</td>\n",
       "      <td>0.430</td>\n",
       "      <td>26</td>\n",
       "      <td>5</td>\n",
       "      <td>2</td>\n",
       "      <td>2</td>\n",
       "    </tr>\n",
       "    <tr>\n",
       "      <th>3</th>\n",
       "      <td>4</td>\n",
       "      <td>Charlotte Hornets</td>\n",
       "      <td>NBA</td>\n",
       "      <td>1989</td>\n",
       "      <td>2018</td>\n",
       "      <td>28</td>\n",
       "      <td>2248</td>\n",
       "      <td>988</td>\n",
       "      <td>1260</td>\n",
       "      <td>0.440</td>\n",
       "      <td>10</td>\n",
       "      <td>0</td>\n",
       "      <td>0</td>\n",
       "      <td>0</td>\n",
       "    </tr>\n",
       "    <tr>\n",
       "      <th>4</th>\n",
       "      <td>5</td>\n",
       "      <td>Chicago Bulls</td>\n",
       "      <td>NBA</td>\n",
       "      <td>1967</td>\n",
       "      <td>2018</td>\n",
       "      <td>52</td>\n",
       "      <td>4215</td>\n",
       "      <td>2183</td>\n",
       "      <td>2032</td>\n",
       "      <td>0.518</td>\n",
       "      <td>35</td>\n",
       "      <td>9</td>\n",
       "      <td>6</td>\n",
       "      <td>6</td>\n",
       "    </tr>\n",
       "  </tbody>\n",
       "</table>\n",
       "</div>"
      ],
      "text/plain": [
       "   Unnamed: 0          Franchise       Lg  From    To  Yrs     G     W     L  \\\n",
       "0           1      Atlanta Hawks      NBA  1950  2018   69  5470  2717  2753   \n",
       "1           2     Boston Celtics  NBA/BAA  1947  2018   72  5642  3329  2313   \n",
       "2           3      Brooklyn Nets  NBA/ABA  1968  2018   51  4140  1782  2358   \n",
       "3           4  Charlotte Hornets      NBA  1989  2018   28  2248   988  1260   \n",
       "4           5      Chicago Bulls      NBA  1967  2018   52  4215  2183  2032   \n",
       "\n",
       "     PCT  Plyfs  Div  Conf  Champ  \n",
       "0  0.497     46   11     0      1  \n",
       "1  0.590     55   31     9     17  \n",
       "2  0.430     26    5     2      2  \n",
       "3  0.440     10    0     0      0  \n",
       "4  0.518     35    9     6      6  "
      ]
     },
     "execution_count": 6,
     "metadata": {},
     "output_type": "execute_result"
    }
   ],
   "source": [
    "nba_franchise.head()"
   ]
  },
  {
   "cell_type": "code",
   "execution_count": 7,
   "metadata": {},
   "outputs": [
    {
     "data": {
      "text/plain": [
       "count    30.000000\n",
       "mean     49.433333\n",
       "std      16.604286\n",
       "min      16.000000\n",
       "25%      39.500000\n",
       "50%      51.000000\n",
       "75%      66.000000\n",
       "max      72.000000\n",
       "Name: Yrs, dtype: float64"
      ]
     },
     "execution_count": 7,
     "metadata": {},
     "output_type": "execute_result"
    }
   ],
   "source": [
    "# Task 1: Find the franchise with the max amount of years in the league\n",
    "nba_franchise['Yrs'].describe()"
   ]
  },
  {
   "cell_type": "markdown",
   "metadata": {},
   "source": [
    "Notice in the descriptive statistics that the maximum amount of years is 72. We want to create an object that sets the years variable greater than or equal to 72 and vice versa for the minimum amount of years."
   ]
  },
  {
   "cell_type": "code",
   "execution_count": 8,
   "metadata": {},
   "outputs": [],
   "source": [
    "# Creating new objects for maximum amount of years and minimum amount of years\n",
    "long_nba_franchise = nba_franchise[nba_franchise['Yrs'] == 72]\n",
    "short_nba_franchise = nba_franchise[nba_franchise['Yrs'] <= 16]"
   ]
  },
  {
   "cell_type": "code",
   "execution_count": 10,
   "metadata": {},
   "outputs": [
    {
     "data": {
      "text/html": [
       "<div>\n",
       "<style scoped>\n",
       "    .dataframe tbody tr th:only-of-type {\n",
       "        vertical-align: middle;\n",
       "    }\n",
       "\n",
       "    .dataframe tbody tr th {\n",
       "        vertical-align: top;\n",
       "    }\n",
       "\n",
       "    .dataframe thead th {\n",
       "        text-align: right;\n",
       "    }\n",
       "</style>\n",
       "<table border=\"1\" class=\"dataframe\">\n",
       "  <thead>\n",
       "    <tr style=\"text-align: right;\">\n",
       "      <th></th>\n",
       "      <th>Unnamed: 0</th>\n",
       "      <th>Franchise</th>\n",
       "      <th>Lg</th>\n",
       "      <th>From</th>\n",
       "      <th>To</th>\n",
       "      <th>Yrs</th>\n",
       "      <th>G</th>\n",
       "      <th>W</th>\n",
       "      <th>L</th>\n",
       "      <th>PCT</th>\n",
       "      <th>Plyfs</th>\n",
       "      <th>Div</th>\n",
       "      <th>Conf</th>\n",
       "      <th>Champ</th>\n",
       "    </tr>\n",
       "  </thead>\n",
       "  <tbody>\n",
       "    <tr>\n",
       "      <th>1</th>\n",
       "      <td>2</td>\n",
       "      <td>Boston Celtics</td>\n",
       "      <td>NBA/BAA</td>\n",
       "      <td>1947</td>\n",
       "      <td>2018</td>\n",
       "      <td>72</td>\n",
       "      <td>5642</td>\n",
       "      <td>3329</td>\n",
       "      <td>2313</td>\n",
       "      <td>0.590</td>\n",
       "      <td>55</td>\n",
       "      <td>31</td>\n",
       "      <td>9</td>\n",
       "      <td>17</td>\n",
       "    </tr>\n",
       "    <tr>\n",
       "      <th>9</th>\n",
       "      <td>10</td>\n",
       "      <td>Golden State Warriors</td>\n",
       "      <td>NBA/BAA</td>\n",
       "      <td>1947</td>\n",
       "      <td>2018</td>\n",
       "      <td>72</td>\n",
       "      <td>5638</td>\n",
       "      <td>2715</td>\n",
       "      <td>2923</td>\n",
       "      <td>0.482</td>\n",
       "      <td>34</td>\n",
       "      <td>11</td>\n",
       "      <td>4</td>\n",
       "      <td>5</td>\n",
       "    </tr>\n",
       "    <tr>\n",
       "      <th>19</th>\n",
       "      <td>20</td>\n",
       "      <td>New York Knicks</td>\n",
       "      <td>NBA/BAA</td>\n",
       "      <td>1947</td>\n",
       "      <td>2018</td>\n",
       "      <td>72</td>\n",
       "      <td>5639</td>\n",
       "      <td>2761</td>\n",
       "      <td>2878</td>\n",
       "      <td>0.490</td>\n",
       "      <td>42</td>\n",
       "      <td>8</td>\n",
       "      <td>4</td>\n",
       "      <td>2</td>\n",
       "    </tr>\n",
       "  </tbody>\n",
       "</table>\n",
       "</div>"
      ],
      "text/plain": [
       "    Unnamed: 0              Franchise       Lg  From    To  Yrs     G     W  \\\n",
       "1            2         Boston Celtics  NBA/BAA  1947  2018   72  5642  3329   \n",
       "9           10  Golden State Warriors  NBA/BAA  1947  2018   72  5638  2715   \n",
       "19          20        New York Knicks  NBA/BAA  1947  2018   72  5639  2761   \n",
       "\n",
       "       L    PCT  Plyfs  Div  Conf  Champ  \n",
       "1   2313  0.590     55   31     9     17  \n",
       "9   2923  0.482     34   11     4      5  \n",
       "19  2878  0.490     42    8     4      2  "
      ]
     },
     "execution_count": 10,
     "metadata": {},
     "output_type": "execute_result"
    }
   ],
   "source": [
    "# Teams with the longest history in the NBA\n",
    "long_nba_franchise"
   ]
  },
  {
   "cell_type": "code",
   "execution_count": 11,
   "metadata": {},
   "outputs": [
    {
     "data": {
      "text/html": [
       "<div>\n",
       "<style scoped>\n",
       "    .dataframe tbody tr th:only-of-type {\n",
       "        vertical-align: middle;\n",
       "    }\n",
       "\n",
       "    .dataframe tbody tr th {\n",
       "        vertical-align: top;\n",
       "    }\n",
       "\n",
       "    .dataframe thead th {\n",
       "        text-align: right;\n",
       "    }\n",
       "</style>\n",
       "<table border=\"1\" class=\"dataframe\">\n",
       "  <thead>\n",
       "    <tr style=\"text-align: right;\">\n",
       "      <th></th>\n",
       "      <th>Unnamed: 0</th>\n",
       "      <th>Franchise</th>\n",
       "      <th>Lg</th>\n",
       "      <th>From</th>\n",
       "      <th>To</th>\n",
       "      <th>Yrs</th>\n",
       "      <th>G</th>\n",
       "      <th>W</th>\n",
       "      <th>L</th>\n",
       "      <th>PCT</th>\n",
       "      <th>Plyfs</th>\n",
       "      <th>Div</th>\n",
       "      <th>Conf</th>\n",
       "      <th>Champ</th>\n",
       "    </tr>\n",
       "  </thead>\n",
       "  <tbody>\n",
       "    <tr>\n",
       "      <th>18</th>\n",
       "      <td>19</td>\n",
       "      <td>New Orleans Pelicans</td>\n",
       "      <td>NBA</td>\n",
       "      <td>2003</td>\n",
       "      <td>2018</td>\n",
       "      <td>16</td>\n",
       "      <td>1296</td>\n",
       "      <td>610</td>\n",
       "      <td>686</td>\n",
       "      <td>0.471</td>\n",
       "      <td>7</td>\n",
       "      <td>1</td>\n",
       "      <td>0</td>\n",
       "      <td>0</td>\n",
       "    </tr>\n",
       "  </tbody>\n",
       "</table>\n",
       "</div>"
      ],
      "text/plain": [
       "    Unnamed: 0             Franchise   Lg  From    To  Yrs     G    W    L  \\\n",
       "18          19  New Orleans Pelicans  NBA  2003  2018   16  1296  610  686   \n",
       "\n",
       "      PCT  Plyfs  Div  Conf  Champ  \n",
       "18  0.471      7    1     0      0  "
      ]
     },
     "execution_count": 11,
     "metadata": {},
     "output_type": "execute_result"
    }
   ],
   "source": [
    "# Teams with the shortest history in the NBA\n",
    "short_nba_franchise"
   ]
  },
  {
   "cell_type": "markdown",
   "metadata": {},
   "source": [
    "The teams with the longest history in the NBA are the Boston Celtics, Golden State Warrios, and the New York Knicks. As for the shortest history, it is the New Orleans Pelicans."
   ]
  },
  {
   "cell_type": "code",
   "execution_count": 12,
   "metadata": {},
   "outputs": [
    {
     "data": {
      "text/plain": [
       "count    30.000000\n",
       "mean      0.495433\n",
       "std       0.052260\n",
       "min       0.397000\n",
       "25%       0.461750\n",
       "50%       0.497500\n",
       "75%       0.523750\n",
       "max       0.602000\n",
       "Name: PCT, dtype: float64"
      ]
     },
     "execution_count": 12,
     "metadata": {},
     "output_type": "execute_result"
    }
   ],
   "source": [
    "# Task 2: Find the teams that have the best winning percentage and the worst winning percentage\n",
    "nba_franchise['PCT'].describe()"
   ]
  },
  {
   "cell_type": "markdown",
   "metadata": {},
   "source": [
    "We apply the same approach for the percentage variable."
   ]
  },
  {
   "cell_type": "code",
   "execution_count": 13,
   "metadata": {},
   "outputs": [],
   "source": [
    "# Teams with the best winning percentage\n",
    "top_nba_teams = nba_franchise[nba_franchise['PCT'] >= 0.602]"
   ]
  },
  {
   "cell_type": "code",
   "execution_count": 14,
   "metadata": {},
   "outputs": [],
   "source": [
    "# Teams with the worst winning percentage\n",
    "worst_nba_teams = nba_franchise[nba_franchise['PCT'] <= 0.397]"
   ]
  },
  {
   "cell_type": "code",
   "execution_count": 15,
   "metadata": {},
   "outputs": [
    {
     "data": {
      "text/html": [
       "<div>\n",
       "<style scoped>\n",
       "    .dataframe tbody tr th:only-of-type {\n",
       "        vertical-align: middle;\n",
       "    }\n",
       "\n",
       "    .dataframe tbody tr th {\n",
       "        vertical-align: top;\n",
       "    }\n",
       "\n",
       "    .dataframe thead th {\n",
       "        text-align: right;\n",
       "    }\n",
       "</style>\n",
       "<table border=\"1\" class=\"dataframe\">\n",
       "  <thead>\n",
       "    <tr style=\"text-align: right;\">\n",
       "      <th></th>\n",
       "      <th>Unnamed: 0</th>\n",
       "      <th>Franchise</th>\n",
       "      <th>Lg</th>\n",
       "      <th>From</th>\n",
       "      <th>To</th>\n",
       "      <th>Yrs</th>\n",
       "      <th>G</th>\n",
       "      <th>W</th>\n",
       "      <th>L</th>\n",
       "      <th>PCT</th>\n",
       "      <th>Plyfs</th>\n",
       "      <th>Div</th>\n",
       "      <th>Conf</th>\n",
       "      <th>Champ</th>\n",
       "    </tr>\n",
       "  </thead>\n",
       "  <tbody>\n",
       "    <tr>\n",
       "      <th>26</th>\n",
       "      <td>27</td>\n",
       "      <td>San Antonio Spurs</td>\n",
       "      <td>NBA/ABA</td>\n",
       "      <td>1968</td>\n",
       "      <td>2018</td>\n",
       "      <td>51</td>\n",
       "      <td>4140</td>\n",
       "      <td>2492</td>\n",
       "      <td>1648</td>\n",
       "      <td>0.602</td>\n",
       "      <td>46</td>\n",
       "      <td>22</td>\n",
       "      <td>6</td>\n",
       "      <td>5</td>\n",
       "    </tr>\n",
       "  </tbody>\n",
       "</table>\n",
       "</div>"
      ],
      "text/plain": [
       "    Unnamed: 0          Franchise       Lg  From    To  Yrs     G     W     L  \\\n",
       "26          27  San Antonio Spurs  NBA/ABA  1968  2018   51  4140  2492  1648   \n",
       "\n",
       "      PCT  Plyfs  Div  Conf  Champ  \n",
       "26  0.602     46   22     6      5  "
      ]
     },
     "execution_count": 15,
     "metadata": {},
     "output_type": "execute_result"
    }
   ],
   "source": [
    "# View winning percentage\n",
    "top_nba_teams"
   ]
  },
  {
   "cell_type": "code",
   "execution_count": 16,
   "metadata": {},
   "outputs": [
    {
     "data": {
      "text/html": [
       "<div>\n",
       "<style scoped>\n",
       "    .dataframe tbody tr th:only-of-type {\n",
       "        vertical-align: middle;\n",
       "    }\n",
       "\n",
       "    .dataframe tbody tr th {\n",
       "        vertical-align: top;\n",
       "    }\n",
       "\n",
       "    .dataframe thead th {\n",
       "        text-align: right;\n",
       "    }\n",
       "</style>\n",
       "<table border=\"1\" class=\"dataframe\">\n",
       "  <thead>\n",
       "    <tr style=\"text-align: right;\">\n",
       "      <th></th>\n",
       "      <th>Unnamed: 0</th>\n",
       "      <th>Franchise</th>\n",
       "      <th>Lg</th>\n",
       "      <th>From</th>\n",
       "      <th>To</th>\n",
       "      <th>Yrs</th>\n",
       "      <th>G</th>\n",
       "      <th>W</th>\n",
       "      <th>L</th>\n",
       "      <th>PCT</th>\n",
       "      <th>Plyfs</th>\n",
       "      <th>Div</th>\n",
       "      <th>Conf</th>\n",
       "      <th>Champ</th>\n",
       "    </tr>\n",
       "  </thead>\n",
       "  <tbody>\n",
       "    <tr>\n",
       "      <th>17</th>\n",
       "      <td>18</td>\n",
       "      <td>Minnesota Timberwolves</td>\n",
       "      <td>NBA</td>\n",
       "      <td>1990</td>\n",
       "      <td>2018</td>\n",
       "      <td>29</td>\n",
       "      <td>2330</td>\n",
       "      <td>925</td>\n",
       "      <td>1405</td>\n",
       "      <td>0.397</td>\n",
       "      <td>9</td>\n",
       "      <td>1</td>\n",
       "      <td>0</td>\n",
       "      <td>0</td>\n",
       "    </tr>\n",
       "  </tbody>\n",
       "</table>\n",
       "</div>"
      ],
      "text/plain": [
       "    Unnamed: 0               Franchise   Lg  From    To  Yrs     G    W     L  \\\n",
       "17          18  Minnesota Timberwolves  NBA  1990  2018   29  2330  925  1405   \n",
       "\n",
       "      PCT  Plyfs  Div  Conf  Champ  \n",
       "17  0.397      9    1     0      0  "
      ]
     },
     "execution_count": 16,
     "metadata": {},
     "output_type": "execute_result"
    }
   ],
   "source": [
    "worst_nba_teams"
   ]
  },
  {
   "cell_type": "markdown",
   "metadata": {},
   "source": [
    "Here, we see that the San Antonio Spurs have the best winning percentage at 0.602 while the Minnesota Timberwolves are at 0.397. This is due to the fact that the San Antonio Spurs recorded more total wins than losses. They also had 46 playoff appearances and 6 finals appearances. Therefore, they were able to win 5 championships. Many factors include team culture, great coaching staff, and excellent offensive and defensive sets. However, leadership is the biggest key for the team to be the best they can be."
   ]
  },
  {
   "cell_type": "code",
   "execution_count": null,
   "metadata": {},
   "outputs": [],
   "source": []
  }
 ],
 "metadata": {
  "kernelspec": {
   "display_name": "Python 3",
   "language": "python",
   "name": "python3"
  },
  "language_info": {
   "codemirror_mode": {
    "name": "ipython",
    "version": 3
   },
   "file_extension": ".py",
   "mimetype": "text/x-python",
   "name": "python",
   "nbconvert_exporter": "python",
   "pygments_lexer": "ipython3",
   "version": "3.7.1"
  }
 },
 "nbformat": 4,
 "nbformat_minor": 2
}
